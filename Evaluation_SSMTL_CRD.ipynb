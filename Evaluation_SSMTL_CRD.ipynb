{
 "cells": [
  {
   "cell_type": "code",
   "execution_count": 1,
   "metadata": {},
   "outputs": [],
   "source": [
    "import pandas as pd\n",
    "import numpy as np\n",
    "from sklearn.metrics import classification_report, confusion_matrix "
   ]
  },
  {
   "cell_type": "markdown",
   "metadata": {},
   "source": [
    "### Load subtype label, cancer label and predicted result of each patch."
   ]
  },
  {
   "cell_type": "code",
   "execution_count": 2,
   "metadata": {},
   "outputs": [],
   "source": [
    "#load patch list with corresponding labels - subtype label\n",
    "test_set = pd.read_csv(\"/home5/hby/subtype_newdata/0.3/ALL/all_2000_test.txt\", header=None, sep=' ')\n",
    "test_set.columns = ['filename', 'label','subtypes']"
   ]
  },
  {
   "cell_type": "code",
   "execution_count": 4,
   "metadata": {},
   "outputs": [],
   "source": [
    "# load corresponding predicted results\n",
    "predict_all = pd.read_csv(\"/home5/hby/subtype_newdata/0.3/ssl_2/crd.csv\", header=None)\n",
    "predict_all.columns = ['cancer','normal','ccrcc', 'prcc', 'chrcc']\n",
    "predict_all.reset_index(drop=True, inplace=True)"
   ]
  },
  {
   "cell_type": "code",
   "execution_count": 5,
   "metadata": {},
   "outputs": [
    {
     "name": "stdout",
     "output_type": "stream",
     "text": [
      "(91321, 5)\n",
      "(91321, 3)\n"
     ]
    }
   ],
   "source": [
    "# check the patch list length is same or not with predicted list\n",
    "print(predict_all.shape)\n",
    "print(test_set.shape)"
   ]
  },
  {
   "cell_type": "code",
   "execution_count": 6,
   "metadata": {},
   "outputs": [
    {
     "name": "stdout",
     "output_type": "stream",
     "text": [
      "                                            filename  label  subtypes  cancer  \\\n",
      "0  /home4/gzy/CancerRegionDetection/test/2000/can...      0         0  1.0872   \n",
      "1  /home4/gzy/CancerRegionDetection/test/2000/can...      0         0  1.4979   \n",
      "2  /home4/gzy/CancerRegionDetection/test/2000/can...      0         0  1.6272   \n",
      "3  /home4/gzy/CancerRegionDetection/test/2000/can...      0         0  1.4342   \n",
      "4  /home4/gzy/CancerRegionDetection/test/2000/can...      0         0  1.5876   \n",
      "\n",
      "   normal   ccrcc    prcc   chrcc  \\\n",
      "0 -1.0884  2.4703 -1.4490 -2.3961   \n",
      "1 -1.4982  2.5088 -1.4712 -2.4491   \n",
      "2 -1.6281  2.6005 -1.4302 -3.4732   \n",
      "3 -1.4343  2.7686 -1.5527 -2.8984   \n",
      "4 -1.5876  2.6067 -1.6857 -2.3079   \n",
      "\n",
      "                                           slidename  \n",
      "0  TCGA-BP-4807-01Z-00-DX1_c985d6a4-5104-4b37-b7a...  \n",
      "1  TCGA-BP-4807-01Z-00-DX1_c985d6a4-5104-4b37-b7a...  \n",
      "2  TCGA-BP-4807-01Z-00-DX1_c985d6a4-5104-4b37-b7a...  \n",
      "3  TCGA-BP-4807-01Z-00-DX1_c985d6a4-5104-4b37-b7a...  \n",
      "4  TCGA-BP-4807-01Z-00-DX1_c985d6a4-5104-4b37-b7a...  \n"
     ]
    }
   ],
   "source": [
    "# concat two list\n",
    "test_set = pd.concat([test_set, predict_all], axis=1)\n",
    "test_set['slidename'] = test_set['filename'].apply(lambda x: x.split('/')[-2])\n",
    "print(test_set.head(5))"
   ]
  },
  {
   "cell_type": "code",
   "execution_count": 7,
   "metadata": {},
   "outputs": [],
   "source": [
    "# softmax\n",
    "predict_crd = np.array(predict_all[['cancer','normal']])\n",
    "predict_crd_norm = np.zeros_like(predict_crd)\n",
    "for i in range(predict_crd.shape[0]):\n",
    "    predict_crd_norm[i,:] = np.exp(predict_crd[i,:])/sum(np.exp(predict_crd[i,:]))\n",
    "test_set['crd'] = np.argmax(predict_crd, axis=1)\n",
    "test_set[['cancer','normal']] = predict_crd_norm"
   ]
  },
  {
   "cell_type": "markdown",
   "metadata": {},
   "source": [
    "### Calculate the overall AUROC value and AUROC values of each subtype"
   ]
  },
  {
   "cell_type": "code",
   "execution_count": 10,
   "metadata": {},
   "outputs": [
    {
     "name": "stdout",
     "output_type": "stream",
     "text": [
      "AUROC value of ccrcc: 0.944641\n",
      "AUROC value of prcc: 0.985973\n",
      "AUROC value of chrcc: 0.964600\n",
      "AUROC value of overall: 0.966246\n"
     ]
    }
   ],
   "source": [
    "# calculate metric of crd task, \n",
    "from sklearn.metrics import classification_report, roc_curve, auc\n",
    "targets = ['ccrcc','prcc','chrcc','overall']\n",
    "for i in range(len(targets)):\n",
    "    if i == 3:\n",
    "        test_set_sub = test_set[test_set['subtypes'] != i]\n",
    "    else:\n",
    "        test_set_sub = test_set[test_set['subtypes'] == i]\n",
    "    labels = test_set_sub['label'].apply(lambda x: 1-x).tolist()\n",
    "    labels_pre = test_set_sub['cancer'].tolist()\n",
    "    false_positive_rate1,true_positive_rate1,thresholds=roc_curve(labels, labels_pre)\n",
    "    roc_auc1=auc(false_positive_rate1, true_positive_rate1)\n",
    "    print(\"AUROC value of %s: %f\"%(targets[i], roc_auc1))"
   ]
  }
 ],
 "metadata": {
  "kernelspec": {
   "display_name": "Python 3",
   "language": "python",
   "name": "python3"
  },
  "language_info": {
   "codemirror_mode": {
    "name": "ipython",
    "version": 3
   },
   "file_extension": ".py",
   "mimetype": "text/x-python",
   "name": "python",
   "nbconvert_exporter": "python",
   "pygments_lexer": "ipython3",
   "version": "3.7.3"
  }
 },
 "nbformat": 4,
 "nbformat_minor": 2
}
